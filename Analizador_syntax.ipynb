{
  "nbformat": 4,
  "nbformat_minor": 0,
  "metadata": {
    "colab": {
      "name": "Analizador syntax.ipynb",
      "provenance": [],
      "collapsed_sections": [],
      "include_colab_link": true
    },
    "kernelspec": {
      "name": "python3",
      "display_name": "Python 3"
    },
    "language_info": {
      "name": "python"
    }
  },
  "cells": [
    {
      "cell_type": "markdown",
      "metadata": {
        "id": "view-in-github",
        "colab_type": "text"
      },
      "source": [
        "<a href=\"https://colab.research.google.com/github/JuanDa14Sa/Compiladores/blob/main/Analizador_syntax.ipynb\" target=\"_parent\"><img src=\"https://colab.research.google.com/assets/colab-badge.svg\" alt=\"Open In Colab\"/></a>"
      ]
    },
    {
      "cell_type": "markdown",
      "source": [
        "## **Analizador sintáctico predictivo ascendente**\n",
        "Juan David Sánchez Murcia\\\n",
        "Maria Paula Vizcaíno Forero"
      ],
      "metadata": {
        "id": "C4C0apJ_e-n4"
      }
    },
    {
      "cell_type": "markdown",
      "source": [
        "Importamos librerías correspondientes"
      ],
      "metadata": {
        "id": "cH3gjy6zfcLz"
      }
    },
    {
      "cell_type": "code",
      "source": [
        "!pip install anytree "
      ],
      "metadata": {
        "colab": {
          "base_uri": "https://localhost:8080/"
        },
        "id": "aRI5Yr26G9Yi",
        "outputId": "847f15fe-0eb3-45b2-9905-279881005f7c"
      },
      "execution_count": 51,
      "outputs": [
        {
          "output_type": "stream",
          "name": "stdout",
          "text": [
            "Requirement already satisfied: anytree in /usr/local/lib/python3.7/dist-packages (2.8.0)\n",
            "Requirement already satisfied: six>=1.9.0 in /usr/local/lib/python3.7/dist-packages (from anytree) (1.15.0)\n"
          ]
        }
      ]
    },
    {
      "cell_type": "code",
      "source": [
        "import pandas as pd\n",
        "from collections import deque\n",
        "from anytree import Node, RenderTree, util\n",
        "from anytree.exporter import UniqueDotExporter\n",
        "from IPython.display import Image"
      ],
      "metadata": {
        "id": "ts11tpTxfgfn"
      },
      "execution_count": 40,
      "outputs": []
    },
    {
      "cell_type": "markdown",
      "source": [
        "Definimos la estructura correspondiente a nuestra gramática: La cadena vacía es @ y las producciones se notan como  S->(A)"
      ],
      "metadata": {
        "id": "u_pJAUKk4KfI"
      }
    },
    {
      "cell_type": "code",
      "source": [
        "terminals=['(',')',';','x']\n",
        "non_terminals=['S','A','C','B']\n",
        "start_symbol='S'\n",
        "grammar=['S->(A)',  \n",
        "         'A->CB', \n",
        "         'B->;A|@', \n",
        "         'C->x|S']\n",
        "\n",
        "productions_=[s.split('->') for s in grammar]\n",
        "productions=dict([pair[0],pair[1].split('|')] for pair in productions_)"
      ],
      "metadata": {
        "id": "Jm2ublBs4KFm"
      },
      "execution_count": 41,
      "outputs": []
    },
    {
      "cell_type": "markdown",
      "source": [
        "Definimos ahora *first* y *find_first* funciones las cuales corresponden a PRIMERO como su nombre lo indica"
      ],
      "metadata": {
        "id": "CDVdvw3pgSv2"
      }
    },
    {
      "cell_type": "code",
      "source": [
        "def first(alpha):\n",
        "    first_set=set()\n",
        "    if alpha in terminals or alpha =='@':\n",
        "        first_set.add(alpha)\n",
        "    elif alpha in non_terminals:\n",
        "        alpha_prods=productions[alpha]\n",
        "        for prod in alpha_prods: #Si hay más de una producción para un no terminal\n",
        "            first_set_=first(prod)\n",
        "            first_set.update(first_set_)\n",
        "    else: #Es una producción del tipo alpha->y1y2...yk\n",
        "        i=0\n",
        "        y=alpha[0]\n",
        "        y_first=first(y)\n",
        "        if '@' in y_first:    #Encontre un epsilon en la primera, entonces calculo la siguiente\n",
        "            i=1\n",
        "            while '@' in y_first: #Calculo todas las y's hasta que en alguna salga un epsilon\n",
        "               first_set.update(y_first)\n",
        "               first_set.remove('@')\n",
        "               first_set.update(alpha[i])\n",
        "               i+=1\n",
        "            if i == len(alpha):   #Epsilon aparece en todos los primeros\n",
        "                first_set.add('@')\n",
        "        else:\n",
        "            first_set.update(y_first)\n",
        "    return first_set\n",
        "\n",
        "def find_first():\n",
        "    first_={non_term:first(non_term) for non_term in non_terminals}\n",
        "    return first_"
      ],
      "metadata": {
        "id": "abR6HMvxmz3r"
      },
      "execution_count": 42,
      "outputs": []
    },
    {
      "cell_type": "markdown",
      "source": [
        "Corremos *find_first*"
      ],
      "metadata": {
        "id": "irDWaJLogsLs"
      }
    },
    {
      "cell_type": "code",
      "source": [
        "find_first()"
      ],
      "metadata": {
        "colab": {
          "base_uri": "https://localhost:8080/"
        },
        "id": "6R3BD4vC-Mcn",
        "outputId": "7f0d1611-7129-4c14-fdfe-c04853d52ae5"
      },
      "execution_count": 43,
      "outputs": [
        {
          "output_type": "execute_result",
          "data": {
            "text/plain": [
              "{'A': {'(', 'x'}, 'B': {';', '@'}, 'C': {'(', 'x'}, 'S': {'('}}"
            ]
          },
          "metadata": {},
          "execution_count": 43
        }
      ]
    },
    {
      "cell_type": "markdown",
      "source": [
        "Análogamente, definimos ahora *find_follow* función la cual corresponde a SIGUIENTE como su nombre lo indica"
      ],
      "metadata": {
        "id": "JeWALVcBg5m6"
      }
    },
    {
      "cell_type": "code",
      "source": [
        "def find_follow():\n",
        "    follow={}\n",
        "    for nonterminal in non_terminals:\n",
        "        follow[nonterminal]=set()   \n",
        "    follow[start_symbol].add('$')\n",
        "    change=True\n",
        "    while(change):\n",
        "        change=False\n",
        "        for non_term,prods in productions.items():\n",
        "            for prod in prods:\n",
        "                # nonterminal='A'\n",
        "                for alpha in non_terminals:\n",
        "                    if alpha in prod:\n",
        "                        alpha_pos=prod.index(alpha)\n",
        "                        if alpha_pos<len(prod)-1:  #Producción de la forma prod->a alpha beta\n",
        "                            first_=first(prod[alpha_pos+1])\n",
        "                            first_beta=first_\n",
        "                            for i in range(alpha_pos+1,len(prod)):\n",
        "                                first_=first(prod[i])  \n",
        "                                first_beta=first_beta.intersection(first(prod[i]))\n",
        "                            if not ((first_-set('@')).issubset(follow[alpha])): #Encontramos nuevos elementos para agregar\n",
        "                                follow[alpha]=follow[alpha].union(first_-set('@'))\n",
        "                                change=True\n",
        "                            if not (prod[i] in non_terminals and '@' in first_beta) :\n",
        "                                break\n",
        "                            if '@' in first_beta:\n",
        "                                if not (follow[non_term].issubset(follow[alpha])):\n",
        "                                    follow[alpha]=follow[alpha].union(follow[non_term])\n",
        "                                    change=True \n",
        "                        else: #Producción de la forma prod->a alpha \n",
        "                            if not (follow[non_term].issubset(follow[alpha])):\n",
        "                                follow[alpha]=follow[alpha].union(follow[non_term])\n",
        "                                change=True                                \n",
        "    return follow"
      ],
      "metadata": {
        "id": "K5yqpqeZ9Sz5"
      },
      "execution_count": 44,
      "outputs": []
    },
    {
      "cell_type": "markdown",
      "source": [
        "Corremos *find_follow*"
      ],
      "metadata": {
        "id": "zo7Hfd9ghDMX"
      }
    },
    {
      "cell_type": "code",
      "source": [
        "find_follow()"
      ],
      "metadata": {
        "colab": {
          "base_uri": "https://localhost:8080/"
        },
        "id": "Cud1-_MVuLPG",
        "outputId": "5aa3ae2c-11f0-4cee-d979-f2097ebf03d5"
      },
      "execution_count": 45,
      "outputs": [
        {
          "output_type": "execute_result",
          "data": {
            "text/plain": [
              "{'A': {')'}, 'B': {')'}, 'C': {')', ';'}, 'S': {'$', ')', ';'}}"
            ]
          },
          "metadata": {},
          "execution_count": 45
        }
      ]
    },
    {
      "cell_type": "markdown",
      "source": [
        "Continuamos con la generación de la tabla correspondiente a la gramática por medio de la función *parseTable*"
      ],
      "metadata": {
        "id": "FkQmEkRuhHLv"
      }
    },
    {
      "cell_type": "code",
      "source": [
        "def parseTable(grammar,terminals,non_terminals):\n",
        "    terminals_=terminals\n",
        "    terminals_.append('$')\n",
        "    table_={non_term:{term:[] for term in terminals_ } for non_term in non_terminals}\n",
        "    productions_=[s.split('->') for s in grammar]\n",
        "    productions=dict([pair[0],pair[1].split('|')] for pair in productions_)\n",
        "    follow_=find_follow()\n",
        "    for A,prods in productions.items():\n",
        "        for alpha in prods:\n",
        "            first_alpha=first(alpha)\n",
        "            for a in first_alpha:\n",
        "                if a in terminals:\n",
        "                    table_[A][a]='{}->{}'.format(A,alpha)\n",
        "                elif a == '@':\n",
        "                    follow_A=follow_[A]\n",
        "                    for b in follow_A:\n",
        "                        if b == '$':\n",
        "                            table_[A][b]='{}->{}'.format(A,alpha)\n",
        "                        table_[A][b]='{}->{}'.format(A,alpha)\n",
        "    return table_               \n"
      ],
      "metadata": {
        "id": "NOpEDJ8pnXDL"
      },
      "execution_count": 46,
      "outputs": []
    },
    {
      "cell_type": "markdown",
      "source": [
        "Corremos *parseTable*"
      ],
      "metadata": {
        "id": "Ew8goBThhQ5p"
      }
    },
    {
      "cell_type": "code",
      "source": [
        "info=parseTable(grammar,terminals,non_terminals)\n",
        "df=pd.DataFrame.from_dict(info,orient='index')\n",
        "df"
      ],
      "metadata": {
        "colab": {
          "base_uri": "https://localhost:8080/",
          "height": 174
        },
        "id": "MI3Weg2cfS2X",
        "outputId": "93f3f5ec-7ebc-4240-e6d3-c6842b044811"
      },
      "execution_count": 47,
      "outputs": [
        {
          "output_type": "execute_result",
          "data": {
            "text/html": [
              "\n",
              "  <div id=\"df-f97f95bd-f719-4f23-810d-57b404de24eb\">\n",
              "    <div class=\"colab-df-container\">\n",
              "      <div>\n",
              "<style scoped>\n",
              "    .dataframe tbody tr th:only-of-type {\n",
              "        vertical-align: middle;\n",
              "    }\n",
              "\n",
              "    .dataframe tbody tr th {\n",
              "        vertical-align: top;\n",
              "    }\n",
              "\n",
              "    .dataframe thead th {\n",
              "        text-align: right;\n",
              "    }\n",
              "</style>\n",
              "<table border=\"1\" class=\"dataframe\">\n",
              "  <thead>\n",
              "    <tr style=\"text-align: right;\">\n",
              "      <th></th>\n",
              "      <th>(</th>\n",
              "      <th>)</th>\n",
              "      <th>;</th>\n",
              "      <th>x</th>\n",
              "      <th>$</th>\n",
              "    </tr>\n",
              "  </thead>\n",
              "  <tbody>\n",
              "    <tr>\n",
              "      <th>S</th>\n",
              "      <td>S-&gt;(A)</td>\n",
              "      <td>[]</td>\n",
              "      <td>[]</td>\n",
              "      <td>[]</td>\n",
              "      <td>[]</td>\n",
              "    </tr>\n",
              "    <tr>\n",
              "      <th>A</th>\n",
              "      <td>A-&gt;CB</td>\n",
              "      <td>[]</td>\n",
              "      <td>[]</td>\n",
              "      <td>A-&gt;CB</td>\n",
              "      <td>[]</td>\n",
              "    </tr>\n",
              "    <tr>\n",
              "      <th>C</th>\n",
              "      <td>C-&gt;S</td>\n",
              "      <td>[]</td>\n",
              "      <td>[]</td>\n",
              "      <td>C-&gt;x</td>\n",
              "      <td>[]</td>\n",
              "    </tr>\n",
              "    <tr>\n",
              "      <th>B</th>\n",
              "      <td>[]</td>\n",
              "      <td>B-&gt;@</td>\n",
              "      <td>B-&gt;;A</td>\n",
              "      <td>[]</td>\n",
              "      <td>[]</td>\n",
              "    </tr>\n",
              "  </tbody>\n",
              "</table>\n",
              "</div>\n",
              "      <button class=\"colab-df-convert\" onclick=\"convertToInteractive('df-f97f95bd-f719-4f23-810d-57b404de24eb')\"\n",
              "              title=\"Convert this dataframe to an interactive table.\"\n",
              "              style=\"display:none;\">\n",
              "        \n",
              "  <svg xmlns=\"http://www.w3.org/2000/svg\" height=\"24px\"viewBox=\"0 0 24 24\"\n",
              "       width=\"24px\">\n",
              "    <path d=\"M0 0h24v24H0V0z\" fill=\"none\"/>\n",
              "    <path d=\"M18.56 5.44l.94 2.06.94-2.06 2.06-.94-2.06-.94-.94-2.06-.94 2.06-2.06.94zm-11 1L8.5 8.5l.94-2.06 2.06-.94-2.06-.94L8.5 2.5l-.94 2.06-2.06.94zm10 10l.94 2.06.94-2.06 2.06-.94-2.06-.94-.94-2.06-.94 2.06-2.06.94z\"/><path d=\"M17.41 7.96l-1.37-1.37c-.4-.4-.92-.59-1.43-.59-.52 0-1.04.2-1.43.59L10.3 9.45l-7.72 7.72c-.78.78-.78 2.05 0 2.83L4 21.41c.39.39.9.59 1.41.59.51 0 1.02-.2 1.41-.59l7.78-7.78 2.81-2.81c.8-.78.8-2.07 0-2.86zM5.41 20L4 18.59l7.72-7.72 1.47 1.35L5.41 20z\"/>\n",
              "  </svg>\n",
              "      </button>\n",
              "      \n",
              "  <style>\n",
              "    .colab-df-container {\n",
              "      display:flex;\n",
              "      flex-wrap:wrap;\n",
              "      gap: 12px;\n",
              "    }\n",
              "\n",
              "    .colab-df-convert {\n",
              "      background-color: #E8F0FE;\n",
              "      border: none;\n",
              "      border-radius: 50%;\n",
              "      cursor: pointer;\n",
              "      display: none;\n",
              "      fill: #1967D2;\n",
              "      height: 32px;\n",
              "      padding: 0 0 0 0;\n",
              "      width: 32px;\n",
              "    }\n",
              "\n",
              "    .colab-df-convert:hover {\n",
              "      background-color: #E2EBFA;\n",
              "      box-shadow: 0px 1px 2px rgba(60, 64, 67, 0.3), 0px 1px 3px 1px rgba(60, 64, 67, 0.15);\n",
              "      fill: #174EA6;\n",
              "    }\n",
              "\n",
              "    [theme=dark] .colab-df-convert {\n",
              "      background-color: #3B4455;\n",
              "      fill: #D2E3FC;\n",
              "    }\n",
              "\n",
              "    [theme=dark] .colab-df-convert:hover {\n",
              "      background-color: #434B5C;\n",
              "      box-shadow: 0px 1px 3px 1px rgba(0, 0, 0, 0.15);\n",
              "      filter: drop-shadow(0px 1px 2px rgba(0, 0, 0, 0.3));\n",
              "      fill: #FFFFFF;\n",
              "    }\n",
              "  </style>\n",
              "\n",
              "      <script>\n",
              "        const buttonEl =\n",
              "          document.querySelector('#df-f97f95bd-f719-4f23-810d-57b404de24eb button.colab-df-convert');\n",
              "        buttonEl.style.display =\n",
              "          google.colab.kernel.accessAllowed ? 'block' : 'none';\n",
              "\n",
              "        async function convertToInteractive(key) {\n",
              "          const element = document.querySelector('#df-f97f95bd-f719-4f23-810d-57b404de24eb');\n",
              "          const dataTable =\n",
              "            await google.colab.kernel.invokeFunction('convertToInteractive',\n",
              "                                                     [key], {});\n",
              "          if (!dataTable) return;\n",
              "\n",
              "          const docLinkHtml = 'Like what you see? Visit the ' +\n",
              "            '<a target=\"_blank\" href=https://colab.research.google.com/notebooks/data_table.ipynb>data table notebook</a>'\n",
              "            + ' to learn more about interactive tables.';\n",
              "          element.innerHTML = '';\n",
              "          dataTable['output_type'] = 'display_data';\n",
              "          await google.colab.output.renderOutput(dataTable, element);\n",
              "          const docLink = document.createElement('div');\n",
              "          docLink.innerHTML = docLinkHtml;\n",
              "          element.appendChild(docLink);\n",
              "        }\n",
              "      </script>\n",
              "    </div>\n",
              "  </div>\n",
              "  "
            ],
            "text/plain": [
              "        (     )      ;      x   $\n",
              "S  S->(A)    []     []     []  []\n",
              "A   A->CB    []     []  A->CB  []\n",
              "C    C->S    []     []   C->x  []\n",
              "B      []  B->@  B->;A     []  []"
            ]
          },
          "metadata": {},
          "execution_count": 47
        }
      ]
    },
    {
      "cell_type": "markdown",
      "source": [
        "Continuamos con la definición de la función que simulara el parsing por medio de una pila, a la vez realizamos la construcción del árbol de parsing."
      ],
      "metadata": {
        "id": "_VfywKvahYNW"
      }
    },
    {
      "cell_type": "code",
      "source": [
        "def parseStackTree(input):\n",
        "    input=input+'$'\n",
        "    stack=deque()\n",
        "    stack.append('$')\n",
        "    stack.append(start_symbol)\n",
        "    root=Node(start_symbol)\n",
        "    parent=root\n",
        "    index=0\n",
        "    a=input[index]\n",
        "    X=stack[-1]\n",
        "    while X!='$':\n",
        "        if a not in terminals:\n",
        "            raise Exception('Input no en el lenguaje')    \n",
        "        if X==a:\n",
        "            print('Matches {}'.format(stack.pop()))\n",
        "            index+=1\n",
        "            a=input[index]\n",
        "            while (util.rightsibling(parent)== None and parent.parent!=root): #Subimos hasta que hallan otros nodos a la derecha\n",
        "                parent=parent.parent\n",
        "            parent=util.rightsibling(parent)  #Cambiamos al nodo de la derecha\n",
        "        elif X in terminals:\n",
        "            raise SyntaxError('No es una producciónd de la gramática')\n",
        "        elif X=='@':\n",
        "            stack.pop()\n",
        "        elif df.loc[X,a]=='[]':\n",
        "            raise Exception('Error')\n",
        "        elif len(df.loc[X,a].split('->')):#Es una producción X->Y1Y2...      \n",
        "            for y in df.loc[X,a].split('->')[1]:\n",
        "                Node(y,parent)  \n",
        "            stack.pop()\n",
        "            print(df.loc[X,a])\n",
        "            for y in reversed(df.loc[X,a].split('->')[1]):\n",
        "                stack.append(y)\n",
        "            # print(parent)\n",
        "            if parent.name not in terminals:   \n",
        "                parent=parent.children[0]\n",
        "        X=stack[-1]\n",
        "        print('Stack: ',stack)\n",
        "        print('Input: ',input[index:])\n",
        "    # for pre, fill, node in RenderTree(root, childiter=reversed):    \n",
        "        # print(\"%s%s\" % (pre, node.name))\n",
        "    UniqueDotExporter(root).to_picture(\"root.png\")    "
      ],
      "metadata": {
        "id": "IiNDdGM-t553"
      },
      "execution_count": 48,
      "outputs": []
    },
    {
      "cell_type": "markdown",
      "source": [
        "Corremos *parseStackTree* para simular el parsing con entrada (x;(x))"
      ],
      "metadata": {
        "id": "4eGwCcRvmdgm"
      }
    },
    {
      "cell_type": "code",
      "source": [
        "parseStackTree('(x;(x))')"
      ],
      "metadata": {
        "colab": {
          "base_uri": "https://localhost:8080/"
        },
        "id": "5UGhdE7-hf9u",
        "outputId": "39cc5c4f-4334-44c0-ff12-1c4821076f1e"
      },
      "execution_count": 49,
      "outputs": [
        {
          "output_type": "stream",
          "name": "stdout",
          "text": [
            "S->(A)\n",
            "Stack:  deque(['$', ')', 'A', '('])\n",
            "Input:  (x;(x))$\n",
            "Matches (\n",
            "Stack:  deque(['$', ')', 'A'])\n",
            "Input:  x;(x))$\n",
            "A->CB\n",
            "Stack:  deque(['$', ')', 'B', 'C'])\n",
            "Input:  x;(x))$\n",
            "C->x\n",
            "Stack:  deque(['$', ')', 'B', 'x'])\n",
            "Input:  x;(x))$\n",
            "Matches x\n",
            "Stack:  deque(['$', ')', 'B'])\n",
            "Input:  ;(x))$\n",
            "B->;A\n",
            "Stack:  deque(['$', ')', 'A', ';'])\n",
            "Input:  ;(x))$\n",
            "Matches ;\n",
            "Stack:  deque(['$', ')', 'A'])\n",
            "Input:  (x))$\n",
            "A->CB\n",
            "Stack:  deque(['$', ')', 'B', 'C'])\n",
            "Input:  (x))$\n",
            "C->S\n",
            "Stack:  deque(['$', ')', 'B', 'S'])\n",
            "Input:  (x))$\n",
            "S->(A)\n",
            "Stack:  deque(['$', ')', 'B', ')', 'A', '('])\n",
            "Input:  (x))$\n",
            "Matches (\n",
            "Stack:  deque(['$', ')', 'B', ')', 'A'])\n",
            "Input:  x))$\n",
            "A->CB\n",
            "Stack:  deque(['$', ')', 'B', ')', 'B', 'C'])\n",
            "Input:  x))$\n",
            "C->x\n",
            "Stack:  deque(['$', ')', 'B', ')', 'B', 'x'])\n",
            "Input:  x))$\n",
            "Matches x\n",
            "Stack:  deque(['$', ')', 'B', ')', 'B'])\n",
            "Input:  ))$\n",
            "B->@\n",
            "Stack:  deque(['$', ')', 'B', ')', '@'])\n",
            "Input:  ))$\n",
            "Stack:  deque(['$', ')', 'B', ')'])\n",
            "Input:  ))$\n",
            "Matches )\n",
            "Stack:  deque(['$', ')', 'B'])\n",
            "Input:  )$\n",
            "B->@\n",
            "Stack:  deque(['$', ')', '@'])\n",
            "Input:  )$\n",
            "Stack:  deque(['$', ')'])\n",
            "Input:  )$\n",
            "Matches )\n",
            "Stack:  deque(['$'])\n",
            "Input:  $\n"
          ]
        }
      ]
    },
    {
      "cell_type": "markdown",
      "source": [
        "Finalmente desplegamos la imagen del árbol generado durante la simulación del parsing por medio de la pila"
      ],
      "metadata": {
        "id": "YuwkyzTdhsYA"
      }
    },
    {
      "cell_type": "code",
      "source": [
        "Image('root.png')"
      ],
      "metadata": {
        "colab": {
          "base_uri": "https://localhost:8080/",
          "height": 844
        },
        "id": "_ulLJVr9aXpu",
        "outputId": "61ba1d60-ba92-4816-ae86-24f443ce0093"
      },
      "execution_count": 50,
      "outputs": [
        {
          "output_type": "execute_result",
          "data": {
            "image/png": "[encoded data removed]",
            "text/plain": [
              "<IPython.core.display.Image object>"
            ]
          },
          "metadata": {},
          "execution_count": 50
        }
      ]
    }
  ]
}