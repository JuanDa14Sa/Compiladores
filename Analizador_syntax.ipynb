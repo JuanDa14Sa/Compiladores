{
  "nbformat": 4,
  "nbformat_minor": 0,
  "metadata": {
    "colab": {
      "name": "Analizador syntax.ipynb",
      "provenance": [],
      "collapsed_sections": []
    },
    "kernelspec": {
      "name": "python3",
      "display_name": "Python 3"
    },
    "language_info": {
      "name": "python"
    }
  },
  "cells": [
    {
      "cell_type": "markdown",
      "source": [
        "## **Analizador sintáctico predictivo ascendente**\n",
        "Juan David Sánchez Murcia\\\n",
        "Maria Paula Vizcaíno Forero"
      ],
      "metadata": {
        "id": "C4C0apJ_e-n4"
      }
    },
    {
      "cell_type": "markdown",
      "source": [
        "Importamos librerías correspondientes"
      ],
      "metadata": {
        "id": "cH3gjy6zfcLz"
      }
    },
    {
      "cell_type": "code",
      "source": [
        "pip install anytree"
      ],
      "metadata": {
        "colab": {
          "base_uri": "https://localhost:8080/"
        },
        "id": "aRI5Yr26G9Yi",
        "outputId": "c4565c4b-7757-4a47-845e-3d805fbc60e5"
      },
      "execution_count": 1,
      "outputs": [
        {
          "output_type": "stream",
          "name": "stdout",
          "text": [
            "Requirement already satisfied: anytree in /usr/local/lib/python3.7/dist-packages (2.8.0)\n",
            "Requirement already satisfied: six>=1.9.0 in /usr/local/lib/python3.7/dist-packages (from anytree) (1.15.0)\n"
          ]
        }
      ]
    },
    {
      "cell_type": "code",
      "source": [
        "import pandas as pd\n",
        "from collections import deque\n",
        "from anytree import Node, RenderTree, util\n",
        "from anytree.exporter import UniqueDotExporter"
      ],
      "metadata": {
        "id": "ts11tpTxfgfn"
      },
      "execution_count": 2,
      "outputs": []
    },
    {
      "cell_type": "markdown",
      "source": [
        "Definimos la estructura correspondiente a nuestras terminales. Teniendo en cuenta las no terminales en mayuscula y la siguiente notación para las producciones la cual se indica con una flecha -> Grammar:"
      ],
      "metadata": {
        "id": "u_pJAUKk4KfI"
      }
    },
    {
      "cell_type": "code",
      "source": [
        "terminals=['(',')',';','x']\n",
        "non_terminals=['S','A','C','B']\n",
        "start_symbol='S'\n",
        "grammar=['S->(A)',  \n",
        "         'A->CB', \n",
        "         'B->;A|@', \n",
        "         'C->x|S']\n",
        "data={'(':['S→(A)','A→CB','','C→S'],\n",
        "      ')':['','','B→@',''],\n",
        "      ';':['','','B→;A',''],\n",
        "      'x':['','A→CB','','C→x'],\n",
        "      '$':['','','','']}\n",
        "\n",
        "productions_=[s.split('->') for s in grammar]\n",
        "productions=dict([pair[0],pair[1].split('|')] for pair in productions_)"
      ],
      "metadata": {
        "id": "Jm2ublBs4KFm"
      },
      "execution_count": 3,
      "outputs": []
    },
    {
      "cell_type": "markdown",
      "source": [
        "Definimos ahora *first* y *find_first* funciones las cuales corresponden a PRIMERO como su nombre lo indica"
      ],
      "metadata": {
        "id": "CDVdvw3pgSv2"
      }
    },
    {
      "cell_type": "code",
      "source": [
        "def first(alpha):\n",
        "    first_set=set()\n",
        "    if alpha in terminals or alpha =='@':\n",
        "        first_set.add(alpha)\n",
        "    elif alpha in non_terminals:\n",
        "        alpha_prods=productions[alpha]\n",
        "        for prod in alpha_prods: #Si hay más de una producción para un no terminal\n",
        "            first_set_=first(prod)\n",
        "            first_set.update(first_set_)\n",
        "    else: #Es una producción del tipo alpha->y1y2...yk\n",
        "        i=0\n",
        "        y=alpha[0]\n",
        "        y_first=first(y)\n",
        "        if '@' in y_first:    #Encontre un epsilon en la primera, entonces calculo la siguiente\n",
        "            i=1\n",
        "            while '@' in y_first: #Calculo todas las y's hasta que en alguna salga un epsilon\n",
        "               first_set.update(y_first)\n",
        "               first_set.remove('@')\n",
        "               first_set.update(alpha[i])\n",
        "               i+=1\n",
        "            if i == len(alpha):   #Epsilon aparece en todos los primeros\n",
        "                first_set.add('@')\n",
        "        else:\n",
        "            first_set.update(y_first)\n",
        "    return first_set\n",
        "\n",
        "def find_first():\n",
        "    first_={non_term:first(non_term) for non_term in non_terminals}\n",
        "    return first_"
      ],
      "metadata": {
        "id": "abR6HMvxmz3r"
      },
      "execution_count": 4,
      "outputs": []
    },
    {
      "cell_type": "markdown",
      "source": [
        "Corremos *find_first*"
      ],
      "metadata": {
        "id": "irDWaJLogsLs"
      }
    },
    {
      "cell_type": "code",
      "source": [
        "find_first()"
      ],
      "metadata": {
        "colab": {
          "base_uri": "https://localhost:8080/"
        },
        "id": "6R3BD4vC-Mcn",
        "outputId": "f49e12fe-88f0-4a62-96f6-a8e646421ec0"
      },
      "execution_count": 5,
      "outputs": [
        {
          "output_type": "execute_result",
          "data": {
            "text/plain": [
              "{'A': {'(', 'x'}, 'B': {';', '@'}, 'C': {'(', 'x'}, 'S': {'('}}"
            ]
          },
          "metadata": {},
          "execution_count": 5
        }
      ]
    },
    {
      "cell_type": "markdown",
      "source": [
        "Análogamente, definimos ahora *find_follow* función la cual corresponde a SIGUIENTE como su nombre lo indica"
      ],
      "metadata": {
        "id": "JeWALVcBg5m6"
      }
    },
    {
      "cell_type": "code",
      "source": [
        "def find_follow():\n",
        "    follow={}\n",
        "    for nonterminal in non_terminals:\n",
        "        follow[nonterminal]=set()   \n",
        "    follow[start_symbol].add('$')\n",
        "    change=True\n",
        "    while(change):\n",
        "        change=False\n",
        "        for non_term,prods in productions.items():\n",
        "            for prod in prods:\n",
        "                # nonterminal='A'\n",
        "                for alpha in non_terminals:\n",
        "                    if alpha in prod:\n",
        "                        alpha_pos=prod.index(alpha)\n",
        "                        if alpha_pos<len(prod)-1:  #Producción de la forma prod->a alpha beta\n",
        "                            first_=first(prod[alpha_pos+1])\n",
        "                            first_beta=first_\n",
        "                            for i in range(alpha_pos+1,len(prod)):\n",
        "                                first_=first(prod[i])  \n",
        "                                first_beta=first_beta.intersection(first(prod[i]))\n",
        "                            if not ((first_-set('@')).issubset(follow[alpha])): #Encontramos nuevos elementos para agregar\n",
        "                                follow[alpha]=follow[alpha].union(first_-set('@'))\n",
        "                                change=True\n",
        "                            if not (prod[i] in non_terminals and '@' in first_beta) :\n",
        "                                break\n",
        "                            if '@' in first_beta:\n",
        "                                if not (follow[non_term].issubset(follow[alpha])):\n",
        "                                    follow[alpha]=follow[alpha].union(follow[non_term])\n",
        "                                    change=True \n",
        "                        else: #Producción de la forma prod->a alpha \n",
        "                            if not (follow[non_term].issubset(follow[alpha])):\n",
        "                                follow[alpha]=follow[alpha].union(follow[non_term])\n",
        "                                change=True                                \n",
        "    return follow"
      ],
      "metadata": {
        "id": "K5yqpqeZ9Sz5"
      },
      "execution_count": 6,
      "outputs": []
    },
    {
      "cell_type": "markdown",
      "source": [
        "Corremos *find_follow*"
      ],
      "metadata": {
        "id": "zo7Hfd9ghDMX"
      }
    },
    {
      "cell_type": "code",
      "source": [
        "find_follow()"
      ],
      "metadata": {
        "colab": {
          "base_uri": "https://localhost:8080/"
        },
        "id": "Cud1-_MVuLPG",
        "outputId": "c5581a4a-68bd-4af9-c60e-2ddc5b19b884"
      },
      "execution_count": 7,
      "outputs": [
        {
          "output_type": "execute_result",
          "data": {
            "text/plain": [
              "{'A': {')'}, 'B': {')'}, 'C': {')', ';'}, 'S': {'$', ')', ';'}}"
            ]
          },
          "metadata": {},
          "execution_count": 7
        }
      ]
    },
    {
      "cell_type": "markdown",
      "source": [
        "Continuamos con la generación de la tabla correspondiente a la gramática por medio de la función *parseTable*"
      ],
      "metadata": {
        "id": "FkQmEkRuhHLv"
      }
    },
    {
      "cell_type": "code",
      "source": [
        "def parseTable(grammar,terminals,non_terminals):\n",
        "    terminals_=terminals\n",
        "    terminals_.append('$')\n",
        "    table_={non_term:{term:[] for term in terminals_ } for non_term in non_terminals}\n",
        "    productions_=[s.split('->') for s in grammar]\n",
        "    productions=dict([pair[0],pair[1].split('|')] for pair in productions_)\n",
        "    follow_=find_follow()\n",
        "    for A,prods in productions.items():\n",
        "        for alpha in prods:\n",
        "            first_alpha=first(alpha)\n",
        "            for a in first_alpha:\n",
        "                if a in terminals:\n",
        "                    table_[A][a]='{} -> {}'.format(A,alpha)\n",
        "                elif a == '@':\n",
        "                    follow_A=follow_[A]\n",
        "                    for b in follow_A:\n",
        "                        if b == '$':\n",
        "                            table_[A][b]='{} -> {}'.format(A,alpha)\n",
        "                        table_[A][b]='{} -> {}'.format(A,alpha)\n",
        "    return table_               \n"
      ],
      "metadata": {
        "id": "NOpEDJ8pnXDL"
      },
      "execution_count": 8,
      "outputs": []
    },
    {
      "cell_type": "markdown",
      "source": [
        "Corremos *parseTable*"
      ],
      "metadata": {
        "id": "Ew8goBThhQ5p"
      }
    },
    {
      "cell_type": "code",
      "source": [
        "info=parseTable(grammar,terminals,non_terminals)\n",
        "df=pd.DataFrame.from_dict(info,orient='index')\n",
        "df.loc['S']"
      ],
      "metadata": {
        "colab": {
          "base_uri": "https://localhost:8080/"
        },
        "id": "MI3Weg2cfS2X",
        "outputId": "1bfc5022-4fb4-4646-9024-c34d35a675d8"
      },
      "execution_count": 9,
      "outputs": [
        {
          "output_type": "execute_result",
          "data": {
            "text/plain": [
              "(    S -> (A)\n",
              ")          []\n",
              ";          []\n",
              "x          []\n",
              "$          []\n",
              "Name: S, dtype: object"
            ]
          },
          "metadata": {},
          "execution_count": 9
        }
      ]
    },
    {
      "cell_type": "code",
      "source": [
        "stack=deque()"
      ],
      "metadata": {
        "id": "U57eIPFNsbnD"
      },
      "execution_count": 10,
      "outputs": []
    },
    {
      "cell_type": "markdown",
      "source": [
        "Continuamos con la definición de la funciones correspondientes a los factores de la pila simulándola con cadenas culminando con la función *parseStk* generando el árbol correspondiente"
      ],
      "metadata": {
        "id": "_VfywKvahYNW"
      }
    },
    {
      "cell_type": "code",
      "source": [
        "frame = pd.DataFrame(data, index=['S','A','B','C'])\n",
        "root = Node(non_terminals[0])\n",
        "stk = \"$S\"\n",
        "ahead = \"\"\n",
        "sub = \"\"\n",
        "\n",
        "def nextToken():\n",
        "    global sub\n",
        "    if(sub[0:2] == \"id\"):\n",
        "         sub = sub[2:]\n",
        "         return \"id\"\n",
        "    else:\n",
        "        s = sub[0:1]\n",
        "        sub = sub[1:]\n",
        "        return s\n",
        "\n",
        "def empty():\n",
        "    if(len(stk) == 0):\n",
        "        return True\n",
        "    return False\n",
        "\n",
        "def top():\n",
        "    global stk\n",
        "    if(stk[-1:] == '@'):\n",
        "        return stk[-2:]\n",
        "        print(stk)\n",
        "    else:\n",
        "        return stk[-1:]\n",
        "        print(stk)\n",
        "\n",
        "def pop():\n",
        "    global stk\n",
        "    if(stk[-1:] == '@'):\n",
        "        stk = stk[:-2];\n",
        "    else:\n",
        "        stk = stk[:-1]\n",
        "\n",
        "def push(s):\n",
        "    global stk\n",
        "    while s[-1:] != '→':\n",
        "        if(s[-1:] == '@'):\n",
        "            stk += s[-2:]\n",
        "            s = s[0:-2]\n",
        "            print(stk)\n",
        "        else:\n",
        "            stk += s[-1:]\n",
        "            s = s[0:-1]\n",
        "            print(stk)\n",
        "\n",
        "def parseStk(top, head):\n",
        "    global ahead\n",
        "    if top == head :\n",
        "        if head != '$':\n",
        "            print('Match', head)\n",
        "        ahead = nextToken()\n",
        "        pop()\n",
        "    else:\n",
        "        s = frame[head][top]\n",
        "        if s == '':\n",
        "            ahead = nextToken()\n",
        "        elif s == 'x':\n",
        "            pop()\n",
        "        else:\n",
        "            print(s)\n",
        "            a = s.split('→')\n",
        "            for caracter in non_terminals:\n",
        "              if a[0] == root:\n",
        "                for caracter_ in a[1]:\n",
        "                  Node(caracter_, root = a[0]) \n",
        "            pop()\n",
        "            if(s[-1:] != '@'):\n",
        "                push(s)"
      ],
      "metadata": {
        "id": "HpS9uH1Mh2kx"
      },
      "execution_count": 11,
      "outputs": []
    },
    {
      "cell_type": "markdown",
      "source": [
        "Corremos *parseStk* por medio de la pila y la tabla de producciones con la entrada (x;(x))"
      ],
      "metadata": {
        "id": "4eGwCcRvmdgm"
      }
    },
    {
      "cell_type": "code",
      "source": [
        "sub = '(x;(x))$'\n",
        "sub += '$'\n",
        "ahead = nextToken()\n",
        "while(empty() == False):\n",
        "    t = top()\n",
        "    parseStk(t, ahead)"
      ],
      "metadata": {
        "id": "t5wgxTkLlo2v",
        "outputId": "74fdab95-ded1-4b59-d1f6-76c7508247ae",
        "colab": {
          "base_uri": "https://localhost:8080/"
        }
      },
      "execution_count": 12,
      "outputs": [
        {
          "output_type": "stream",
          "name": "stdout",
          "text": [
            "S→(A)\n",
            "$)\n",
            "$)A\n",
            "$)A(\n",
            "Match (\n",
            "A→CB\n",
            "$)B\n",
            "$)BC\n",
            "C→x\n",
            "$)Bx\n",
            "Match x\n",
            "B→;A\n",
            "$)A\n",
            "$)A;\n",
            "Match ;\n",
            "A→CB\n",
            "$)B\n",
            "$)BC\n",
            "C→S\n",
            "$)BS\n",
            "S→(A)\n",
            "$)B)\n",
            "$)B)A\n",
            "$)B)A(\n",
            "Match (\n",
            "A→CB\n",
            "$)B)B\n",
            "$)B)BC\n",
            "C→x\n",
            "$)B)Bx\n",
            "Match x\n",
            "B→@\n",
            "Match )\n",
            "B→@\n",
            "Match )\n"
          ]
        }
      ]
    },
    {
      "cell_type": "markdown",
      "source": [
        "Teniendo en cuenta lo anterior generamos la función *parseTree*"
      ],
      "metadata": {
        "id": "wb-dr_AFcGKC"
      }
    },
    {
      "cell_type": "code",
      "source": [
        "input = ['(','x',';','(','x',')',')']\n",
        "\n",
        "def parseTree():\n",
        "  stk_ = [\"$\"]\n",
        "  stk_+non_terminals[0]\n",
        "  inputAct = 0\n",
        "  a = input[inputAct]\n",
        "  X = stk_[-1]\n",
        "  root = Node(X)\n",
        "  padre = root\n",
        "  while(X != \"$\"):\n",
        "    if X == a:\n",
        "      for hijo in padre.children:\n",
        "        if hijo.name == X:\n",
        "          padre = hijo\n",
        "      while(util.leftsibling(padre) == None and padre != root):\n",
        "          padre = padre.parent\n",
        "      if padre != root:\n",
        "        padre = padre.parent\n",
        "      stk_.pop(-1)\n",
        "      inputAct += 1\n",
        "      a = input[inputAct]\n",
        "    elif X in terminals and X != \"€\":\n",
        "      print(\"Error, \", X, \"es un terminal\")\n",
        "      return\n",
        "    elif X == \"€\":\n",
        "      for hijo in padre.children:\n",
        "        if hijo.name == X:\n",
        "          padre = hijo\n",
        "      while(util.leftsibling(padre) == None and padre != root):\n",
        "          padre = padre.parent\n",
        "      if padre != root:\n",
        "        padre = padre.parent\n",
        "      stk_.pop(-1)\n",
        "    elif X in frame:\n",
        "      if padre != None:\n",
        "        for hijo in padre.children:\n",
        "          if hijo.name == stk_[-1]:\n",
        "            padre = hijo\n",
        "            break\n",
        "      stk_.pop(-1)\n",
        "      terminalAct = \"\"\n",
        "      for caracter in frame[X][a][::-1]:\n",
        "        if caracter in non_terminals:\n",
        "          if padre != None:\n",
        "            Node(caracter, parent=padre)\n",
        "          stk_.append(caracter)  \n",
        "        else:        \n",
        "          terminalAct += caracter\n",
        "        if terminalAct[::-1] in terminals: \n",
        "          if padre != None:\n",
        "            Node(terminalAct[::-1], parent=padre)\n",
        "          stk_.append(terminalActua[::-1])\n",
        "          terminalAct = \"\"\n",
        "    X = stk_[-1]\n",
        "  print(root.children)"
      ],
      "metadata": {
        "id": "EHhYZHmEb-ni"
      },
      "execution_count": 13,
      "outputs": []
    }
  ]
}